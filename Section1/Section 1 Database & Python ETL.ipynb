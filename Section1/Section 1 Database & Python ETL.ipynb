{
 "cells": [
  {
   "cell_type": "markdown",
   "metadata": {},
   "source": [
    " ## Section 1 Database & Python ETL"
   ]
  },
  {
   "cell_type": "markdown",
   "metadata": {},
   "source": [
    "### Design and Summary"
   ]
  },
  {
   "attachments": {
    "image.png": {
     "image/png": "[encoded data removed]"
    }
   },
   "cell_type": "markdown",
   "metadata": {},
   "source": [
    "![image.png](attachment:image.png)\n",
    "\n",
    "### 1. Raw data\n",
    "Load the csv file\n",
    "\n",
    "### 2. ETL Process and Database\n",
    "- 2.1 Build database using SQLAlchemy\n",
    "- 2.2 Read the csv file with transformation - Adding country column based on the ip address. \n",
    "- 2.3 load csv to database - SQLite.\n",
    "\n",
    "### 3. Analytics\n",
    "- Gather requirement, build SQL query based on the business need. \n",
    "- Recommend to perform data cleaning, deduplicate before data load."
   ]
  },
  {
   "cell_type": "markdown",
   "metadata": {},
   "source": [
    "### 1 Raw data - Import packages and data"
   ]
  },
  {
   "cell_type": "code",
   "execution_count": 1,
   "metadata": {},
   "outputs": [
    {
     "name": "stdout",
     "output_type": "stream",
     "text": [
      "Looking in indexes: https://pypi.org/simple/, https://packages.physiq.zone/nexus/repository/pypi-internal/simple, https://packages.physiq.zone/nexus/repository/pypi-research/simple, https://packages.physiq.zone/nexus/repository/pypi-releases/simple, https://packages.physiq.zone/nexus/repository/pypi-playground/simple\n",
      "Requirement already satisfied: geoip2 in /Users/datasheep/opt/anaconda3/lib/python3.8/site-packages (4.5.0)\n",
      "Requirement already satisfied: urllib3<2.0.0,>=1.25.2 in /Users/datasheep/opt/anaconda3/lib/python3.8/site-packages (from geoip2) (1.25.11)\n",
      "Requirement already satisfied: maxminddb<3.0.0,>=2.2.0 in /Users/datasheep/opt/anaconda3/lib/python3.8/site-packages (from geoip2) (2.2.0)\n",
      "Requirement already satisfied: aiohttp<4.0.0,>=3.6.2 in /Users/datasheep/opt/anaconda3/lib/python3.8/site-packages (from geoip2) (3.8.1)\n",
      "Requirement already satisfied: requests<3.0.0,>=2.24.0 in /Users/datasheep/opt/anaconda3/lib/python3.8/site-packages (from geoip2) (2.24.0)\n",
      "Requirement already satisfied: multidict<7.0,>=4.5 in /Users/datasheep/opt/anaconda3/lib/python3.8/site-packages (from aiohttp<4.0.0,>=3.6.2->geoip2) (6.0.2)\n",
      "Requirement already satisfied: frozenlist>=1.1.1 in /Users/datasheep/opt/anaconda3/lib/python3.8/site-packages (from aiohttp<4.0.0,>=3.6.2->geoip2) (1.3.0)\n",
      "Requirement already satisfied: charset-normalizer<3.0,>=2.0 in /Users/datasheep/opt/anaconda3/lib/python3.8/site-packages (from aiohttp<4.0.0,>=3.6.2->geoip2) (2.0.12)\n",
      "Requirement already satisfied: aiosignal>=1.1.2 in /Users/datasheep/opt/anaconda3/lib/python3.8/site-packages (from aiohttp<4.0.0,>=3.6.2->geoip2) (1.2.0)\n",
      "Requirement already satisfied: attrs>=17.3.0 in /Users/datasheep/opt/anaconda3/lib/python3.8/site-packages (from aiohttp<4.0.0,>=3.6.2->geoip2) (20.3.0)\n",
      "Requirement already satisfied: async-timeout<5.0,>=4.0.0a3 in /Users/datasheep/opt/anaconda3/lib/python3.8/site-packages (from aiohttp<4.0.0,>=3.6.2->geoip2) (4.0.2)\n",
      "Requirement already satisfied: yarl<2.0,>=1.0 in /Users/datasheep/opt/anaconda3/lib/python3.8/site-packages (from aiohttp<4.0.0,>=3.6.2->geoip2) (1.7.2)\n",
      "Requirement already satisfied: idna<3,>=2.5 in /Users/datasheep/opt/anaconda3/lib/python3.8/site-packages (from requests<3.0.0,>=2.24.0->geoip2) (2.10)\n",
      "Requirement already satisfied: chardet<4,>=3.0.2 in /Users/datasheep/opt/anaconda3/lib/python3.8/site-packages (from requests<3.0.0,>=2.24.0->geoip2) (3.0.4)\n",
      "Requirement already satisfied: certifi>=2017.4.17 in /Users/datasheep/opt/anaconda3/lib/python3.8/site-packages (from requests<3.0.0,>=2.24.0->geoip2) (2020.6.20)\n"
     ]
    }
   ],
   "source": [
    "!pip install geoip2"
   ]
  },
  {
   "cell_type": "code",
   "execution_count": 2,
   "metadata": {},
   "outputs": [],
   "source": [
    "import pandas as pd\n",
    "person = pd.read_csv('DATA.csv')"
   ]
  },
  {
   "cell_type": "markdown",
   "metadata": {},
   "source": [
    "### 2. ETL process "
   ]
  },
  {
   "cell_type": "markdown",
   "metadata": {},
   "source": [
    "### 2.1 Create database Schema"
   ]
  },
  {
   "cell_type": "code",
   "execution_count": 12,
   "metadata": {},
   "outputs": [],
   "source": [
    "from sqlalchemy import Integer, Column, create_engine, ForeignKey, String, Date, Numeric\n",
    "from sqlalchemy.orm import relationship, joinedload, subqueryload, Session\n",
    "from sqlalchemy.ext.declarative import declarative_base\n",
    "\n",
    "engine = create_engine('sqlite:///SFL.db', echo = False)\n",
    "Base = declarative_base(engine)\n",
    "\n",
    "class Person(Base):\n",
    "    __tablename__ = 'person'\n",
    "    id = Column(String, primary_key=True)\n",
    "    first_name = Column(String)\n",
    "    last_name = Column(String)\n",
    "    email = Column(String)\n",
    "    gender = Column(String)\n",
    "    ip_address = Column(String)\n",
    "    country = Column(String)\n",
    "    \n",
    "\n",
    "Base.metadata.create_all(engine)"
   ]
  },
  {
   "cell_type": "markdown",
   "metadata": {},
   "source": [
    "### 2.2 Read Data and then do transformation"
   ]
  },
  {
   "cell_type": "code",
   "execution_count": 13,
   "metadata": {},
   "outputs": [],
   "source": [
    "import geoip2.database\n",
    "with geoip2.database.Reader('./GeoLite2-City.mmdb') as reader:\n",
    "    def get_mm(ip):\n",
    "        try:\n",
    "            return reader.city(ip)\n",
    "        except:\n",
    "            return None\n",
    "    person['maxmind'] = person.ip_address.apply(get_mm)"
   ]
  },
  {
   "cell_type": "code",
   "execution_count": 14,
   "metadata": {},
   "outputs": [],
   "source": [
    "### Adding Country \n",
    "person['country'] = person.maxmind.apply(lambda it: it.country.name if it else None)"
   ]
  },
  {
   "cell_type": "code",
   "execution_count": 15,
   "metadata": {},
   "outputs": [
    {
     "data": {
      "text/html": [
       "<div>\n",
       "<style scoped>\n",
       "    .dataframe tbody tr th:only-of-type {\n",
       "        vertical-align: middle;\n",
       "    }\n",
       "\n",
       "    .dataframe tbody tr th {\n",
       "        vertical-align: top;\n",
       "    }\n",
       "\n",
       "    .dataframe thead th {\n",
       "        text-align: right;\n",
       "    }\n",
       "</style>\n",
       "<table border=\"1\" class=\"dataframe\">\n",
       "  <thead>\n",
       "    <tr style=\"text-align: right;\">\n",
       "      <th></th>\n",
       "      <th>id</th>\n",
       "      <th>first_name</th>\n",
       "      <th>last_name</th>\n",
       "      <th>email</th>\n",
       "      <th>gender</th>\n",
       "      <th>ip_address</th>\n",
       "      <th>maxmind</th>\n",
       "      <th>country</th>\n",
       "    </tr>\n",
       "  </thead>\n",
       "  <tbody>\n",
       "    <tr>\n",
       "      <th>0</th>\n",
       "      <td>1</td>\n",
       "      <td>Margaretta</td>\n",
       "      <td>Laughtisse</td>\n",
       "      <td>mlaughtisse0@mediafire.com</td>\n",
       "      <td>Genderfluid</td>\n",
       "      <td>34.148.232.131</td>\n",
       "      <td>geoip2.models.City({'city': {'geoname_id': 458...</td>\n",
       "      <td>United States</td>\n",
       "    </tr>\n",
       "    <tr>\n",
       "      <th>1</th>\n",
       "      <td>2</td>\n",
       "      <td>Vally</td>\n",
       "      <td>Garment</td>\n",
       "      <td>vgarment1@wisc.edu</td>\n",
       "      <td>Bigender</td>\n",
       "      <td>15.158.123.36</td>\n",
       "      <td>geoip2.models.City({'continent': {'code': 'NA'...</td>\n",
       "      <td>United States</td>\n",
       "    </tr>\n",
       "    <tr>\n",
       "      <th>2</th>\n",
       "      <td>3</td>\n",
       "      <td>Tessa</td>\n",
       "      <td>Curee</td>\n",
       "      <td>tcuree2@php.net</td>\n",
       "      <td>Bigender</td>\n",
       "      <td>132.209.143.225</td>\n",
       "      <td>geoip2.models.City({'continent': {'code': 'NA'...</td>\n",
       "      <td>Canada</td>\n",
       "    </tr>\n",
       "    <tr>\n",
       "      <th>3</th>\n",
       "      <td>4</td>\n",
       "      <td>Arman</td>\n",
       "      <td>Heineking</td>\n",
       "      <td>aheineking3@tuttocitta.it</td>\n",
       "      <td>Male</td>\n",
       "      <td>157.110.61.233</td>\n",
       "      <td>geoip2.models.City({'continent': {'code': 'AS'...</td>\n",
       "      <td>Japan</td>\n",
       "    </tr>\n",
       "    <tr>\n",
       "      <th>4</th>\n",
       "      <td>5</td>\n",
       "      <td>Roselia</td>\n",
       "      <td>Trustie</td>\n",
       "      <td>rtrustie4@ft.com</td>\n",
       "      <td>Non-binary</td>\n",
       "      <td>49.55.218.81</td>\n",
       "      <td>geoip2.models.City({'continent': {'code': 'AS'...</td>\n",
       "      <td>China</td>\n",
       "    </tr>\n",
       "  </tbody>\n",
       "</table>\n",
       "</div>"
      ],
      "text/plain": [
       "   id  first_name   last_name                       email       gender  \\\n",
       "0   1  Margaretta  Laughtisse  mlaughtisse0@mediafire.com  Genderfluid   \n",
       "1   2       Vally     Garment          vgarment1@wisc.edu     Bigender   \n",
       "2   3       Tessa       Curee             tcuree2@php.net     Bigender   \n",
       "3   4       Arman   Heineking   aheineking3@tuttocitta.it         Male   \n",
       "4   5     Roselia     Trustie            rtrustie4@ft.com   Non-binary   \n",
       "\n",
       "        ip_address                                            maxmind  \\\n",
       "0   34.148.232.131  geoip2.models.City({'city': {'geoname_id': 458...   \n",
       "1    15.158.123.36  geoip2.models.City({'continent': {'code': 'NA'...   \n",
       "2  132.209.143.225  geoip2.models.City({'continent': {'code': 'NA'...   \n",
       "3   157.110.61.233  geoip2.models.City({'continent': {'code': 'AS'...   \n",
       "4     49.55.218.81  geoip2.models.City({'continent': {'code': 'AS'...   \n",
       "\n",
       "         country  \n",
       "0  United States  \n",
       "1  United States  \n",
       "2         Canada  \n",
       "3          Japan  \n",
       "4          China  "
      ]
     },
     "execution_count": 15,
     "metadata": {},
     "output_type": "execute_result"
    }
   ],
   "source": [
    "person.head()"
   ]
  },
  {
   "cell_type": "markdown",
   "metadata": {},
   "source": [
    "### 2.3 Load data into database"
   ]
  },
  {
   "cell_type": "code",
   "execution_count": 16,
   "metadata": {},
   "outputs": [
    {
     "name": "stdout",
     "output_type": "stream",
     "text": [
      "0\n",
      "id                                                            1\n",
      "first_name                                           Margaretta\n",
      "last_name                                            Laughtisse\n",
      "email                                mlaughtisse0@mediafire.com\n",
      "gender                                              Genderfluid\n",
      "ip_address                                       34.148.232.131\n",
      "maxmind       geoip2.models.City({'city': {'geoname_id': 458...\n",
      "country                                           United States\n",
      "Name: 0, dtype: object\n",
      "1\n",
      "id                                                            2\n",
      "first_name                                                Vally\n",
      "last_name                                               Garment\n",
      "email                                        vgarment1@wisc.edu\n",
      "gender                                                 Bigender\n",
      "ip_address                                        15.158.123.36\n",
      "maxmind       geoip2.models.City({'continent': {'code': 'NA'...\n",
      "country                                           United States\n",
      "Name: 1, dtype: object\n",
      "2\n",
      "id                                                            3\n",
      "first_name                                                Tessa\n",
      "last_name                                                 Curee\n",
      "email                                           tcuree2@php.net\n",
      "gender                                                 Bigender\n",
      "ip_address                                      132.209.143.225\n",
      "maxmind       geoip2.models.City({'continent': {'code': 'NA'...\n",
      "country                                                  Canada\n",
      "Name: 999, dtype: object\n"
     ]
    }
   ],
   "source": [
    "### Create Session \n",
    "sess = Session(engine)\n",
    "\n",
    "for rowidx, record in person.iterrows():\n",
    "    print(rowidx)\n",
    "    print(record)\n",
    "    c = Person(\n",
    "        id=record['id'],\n",
    "        first_name=record['first_name'],\n",
    "        last_name=record['last_name'],\n",
    "        email=record['email'],\n",
    "        gender=record['gender'],\n",
    "        ip_address=record['ip_address'],\n",
    "        country=record['country']\n",
    "    )\n",
    "    sess.add(c)\n",
    "sess.commit()"
   ]
  },
  {
   "cell_type": "markdown",
   "metadata": {},
   "source": [
    "### 3. Analytics \n",
    "\n",
    "The sample query present how many people in different countries. "
   ]
  },
  {
   "cell_type": "code",
   "execution_count": 22,
   "metadata": {},
   "outputs": [],
   "source": [
    "sample_query = \"\"\"\n",
    "SELECT country, count(*) as country_counts\n",
    "FROM person\n",
    "group by country\n",
    "order by country\n",
    "\"\"\"\n",
    "sample_df = pd.read_sql(sample_query, engine)"
   ]
  },
  {
   "cell_type": "code",
   "execution_count": 20,
   "metadata": {},
   "outputs": [
    {
     "data": {
      "text/html": [
       "<div>\n",
       "<style scoped>\n",
       "    .dataframe tbody tr th:only-of-type {\n",
       "        vertical-align: middle;\n",
       "    }\n",
       "\n",
       "    .dataframe tbody tr th {\n",
       "        vertical-align: top;\n",
       "    }\n",
       "\n",
       "    .dataframe thead th {\n",
       "        text-align: right;\n",
       "    }\n",
       "</style>\n",
       "<table border=\"1\" class=\"dataframe\">\n",
       "  <thead>\n",
       "    <tr style=\"text-align: right;\">\n",
       "      <th></th>\n",
       "      <th>country</th>\n",
       "      <th>country_counts</th>\n",
       "    </tr>\n",
       "  </thead>\n",
       "  <tbody>\n",
       "    <tr>\n",
       "      <th>0</th>\n",
       "      <td>None</td>\n",
       "      <td>151</td>\n",
       "    </tr>\n",
       "    <tr>\n",
       "      <th>1</th>\n",
       "      <td>Algeria</td>\n",
       "      <td>3</td>\n",
       "    </tr>\n",
       "    <tr>\n",
       "      <th>2</th>\n",
       "      <td>Argentina</td>\n",
       "      <td>2</td>\n",
       "    </tr>\n",
       "    <tr>\n",
       "      <th>3</th>\n",
       "      <td>Armenia</td>\n",
       "      <td>1</td>\n",
       "    </tr>\n",
       "    <tr>\n",
       "      <th>4</th>\n",
       "      <td>Australia</td>\n",
       "      <td>18</td>\n",
       "    </tr>\n",
       "    <tr>\n",
       "      <th>...</th>\n",
       "      <td>...</td>\n",
       "      <td>...</td>\n",
       "    </tr>\n",
       "    <tr>\n",
       "      <th>67</th>\n",
       "      <td>Ukraine</td>\n",
       "      <td>5</td>\n",
       "    </tr>\n",
       "    <tr>\n",
       "      <th>68</th>\n",
       "      <td>United Kingdom</td>\n",
       "      <td>26</td>\n",
       "    </tr>\n",
       "    <tr>\n",
       "      <th>69</th>\n",
       "      <td>United States</td>\n",
       "      <td>332</td>\n",
       "    </tr>\n",
       "    <tr>\n",
       "      <th>70</th>\n",
       "      <td>Vietnam</td>\n",
       "      <td>4</td>\n",
       "    </tr>\n",
       "    <tr>\n",
       "      <th>71</th>\n",
       "      <td>Zambia</td>\n",
       "      <td>1</td>\n",
       "    </tr>\n",
       "  </tbody>\n",
       "</table>\n",
       "<p>72 rows × 2 columns</p>\n",
       "</div>"
      ],
      "text/plain": [
       "           country  country_counts\n",
       "0             None             151\n",
       "1          Algeria               3\n",
       "2        Argentina               2\n",
       "3          Armenia               1\n",
       "4        Australia              18\n",
       "..             ...             ...\n",
       "67         Ukraine               5\n",
       "68  United Kingdom              26\n",
       "69   United States             332\n",
       "70         Vietnam               4\n",
       "71          Zambia               1\n",
       "\n",
       "[72 rows x 2 columns]"
      ]
     },
     "execution_count": 20,
     "metadata": {},
     "output_type": "execute_result"
    }
   ],
   "source": [
    "sample_df"
   ]
  }
 ],
 "metadata": {
  "kernelspec": {
   "display_name": "Python 3",
   "language": "python",
   "name": "python3"
  },
  "language_info": {
   "codemirror_mode": {
    "name": "ipython",
    "version": 3
   },
   "file_extension": ".py",
   "mimetype": "text/x-python",
   "name": "python",
   "nbconvert_exporter": "python",
   "pygments_lexer": "ipython3",
   "version": "3.8.5"
  }
 },
 "nbformat": 4,
 "nbformat_minor": 4
}
