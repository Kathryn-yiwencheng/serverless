{
 "cells": [
  {
   "cell_type": "markdown",
   "metadata": {},
   "source": [
    " ## Section 2 Technical Discussion"
   ]
  },
  {
   "cell_type": "markdown",
   "metadata": {},
   "source": [
    "The goal for this document is to provide functional specifications that address the following hypothetical “client concerns”"
   ]
  },
  {
   "cell_type": "markdown",
   "metadata": {},
   "source": [
    " ### What is a Data Lake? Explain its benefits, how it differs from a data warehouse, and how it might benefit a client. "
   ]
  },
  {
   "cell_type": "markdown",
   "metadata": {},
   "source": [
    "Data lake gathers and stores all raw data. The difference between a data lake and a data warehouse is that a data lake has all the relevant raw data before transformation.. \n",
    " \n",
    "Although data warehouses are popular, there are benefits to using a data lake. A data lake is  more scalable, less need for up front processing. More flexible storage options as a perfect choice for the dynamic world. \n",
    " \n",
    "For example, AWS S3 is one of the data lakes, and we can connect AWS S3 with AWS Glue to AWS Athena (SQL query engine), and run SQL queries with Athena or connect it to Tableau / Power BI or other business intelligence tool. The schema can easily change. \n"
   ]
  },
  {
   "cell_type": "markdown",
   "metadata": {},
   "source": [
    "### Explain serverless architecture.  What are its pros and cons?\t"
   ]
  },
  {
   "cell_type": "markdown",
   "metadata": {},
   "source": [
    "Serverless architecture is designed for developers to run the application on the cloud base environment without an on-premise data center and no need to manage servers. A company using serverless architecture can save efforts managing the system, but there are some concerns. \n",
    " \n",
    "Pros: The benefit is that the company saves the effort of managing the complex system. It is easy for a company to scale, without managing an in-house system, and the cost is less (only be charge when use the service) \n",
    " \n",
    "Cons: It might be costly to migrate over to a different cloud provider, and the cost is higher in the long term. \n"
   ]
  },
  {
   "cell_type": "markdown",
   "metadata": {},
   "source": [
    "### Describe modern MLOps and how organizations should be approaching management from a tool and system perspective."
   ]
  },
  {
   "cell_type": "markdown",
   "metadata": {},
   "source": [
    "The goal of MLOps is to maintain the data system stable and support machine learning deployment. They provide data scientists with an environment to run complex machine learning algorithms which bring much more business value.  \n",
    "\n",
    "MLOps have the skill set to set up and maintain a data pipeline for data transformation to filter the massive amount of data sources. In addition, the MLOps team has Linux skills and an understanding of the system. \n"
   ]
  }
 ],
 "metadata": {
  "kernelspec": {
   "display_name": "Python 3",
   "language": "python",
   "name": "python3"
  },
  "language_info": {
   "codemirror_mode": {
    "name": "ipython",
    "version": 3
   },
   "file_extension": ".py",
   "mimetype": "text/x-python",
   "name": "python",
   "nbconvert_exporter": "python",
   "pygments_lexer": "ipython3",
   "version": "3.8.5"
  }
 },
 "nbformat": 4,
 "nbformat_minor": 4
}
